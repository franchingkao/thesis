{
 "cells": [
  {
   "cell_type": "code",
   "execution_count": 2,
   "id": "1aa080c6",
   "metadata": {},
   "outputs": [],
   "source": [
    "import numpy as np"
   ]
  },
  {
   "cell_type": "code",
   "execution_count": 19,
   "id": "02f6e724",
   "metadata": {},
   "outputs": [],
   "source": [
    "a = np.mat('1 1 ; 2 2')\n",
    "b = np.mat('2 2 ; 3 3')"
   ]
  },
  {
   "cell_type": "code",
   "execution_count": 20,
   "id": "a2d9a95b",
   "metadata": {},
   "outputs": [
    {
     "data": {
      "text/plain": [
       "matrix([[ 5,  5],\n",
       "        [10, 10]])"
      ]
     },
     "execution_count": 20,
     "metadata": {},
     "output_type": "execute_result"
    }
   ],
   "source": [
    "a*b"
   ]
  },
  {
   "cell_type": "code",
   "execution_count": 21,
   "id": "deab2a19",
   "metadata": {},
   "outputs": [
    {
     "data": {
      "text/plain": [
       "matrix([[1, 1],\n",
       "        [2, 2]])"
      ]
     },
     "execution_count": 21,
     "metadata": {},
     "output_type": "execute_result"
    }
   ],
   "source": [
    "a"
   ]
  },
  {
   "cell_type": "code",
   "execution_count": 22,
   "id": "0838ee54",
   "metadata": {},
   "outputs": [
    {
     "data": {
      "text/plain": [
       "matrix([[2, 2],\n",
       "        [3, 3]])"
      ]
     },
     "execution_count": 22,
     "metadata": {},
     "output_type": "execute_result"
    }
   ],
   "source": [
    "b"
   ]
  },
  {
   "cell_type": "code",
   "execution_count": 6,
   "id": "8cf28056",
   "metadata": {},
   "outputs": [],
   "source": [
    "from math import log"
   ]
  },
  {
   "cell_type": "code",
   "execution_count": 20,
   "id": "0cb1a1a6",
   "metadata": {},
   "outputs": [],
   "source": [
    "def entropy(x, y):\n",
    "    ans = -(x)*log(2,x)-(y)*log(2,y)\n",
    "    return round(ans, 6)"
   ]
  },
  {
   "cell_type": "code",
   "execution_count": 24,
   "id": "81ba8649",
   "metadata": {},
   "outputs": [
    {
     "name": "stdout",
     "output_type": "stream",
     "text": [
      "3.905078\n"
     ]
    }
   ],
   "source": [
    "print(entropy(1/7,6/7))"
   ]
  },
  {
   "cell_type": "code",
   "execution_count": 16,
   "id": "e302684b",
   "metadata": {},
   "outputs": [
    {
     "data": {
      "text/plain": [
       "1.9320656297399068"
      ]
     },
     "execution_count": 16,
     "metadata": {},
     "output_type": "execute_result"
    }
   ],
   "source": []
  },
  {
   "cell_type": "code",
   "execution_count": 28,
   "id": "4f8f4331",
   "metadata": {},
   "outputs": [
    {
     "data": {
      "text/plain": [
       "-1.5828168"
      ]
     },
     "execution_count": 28,
     "metadata": {},
     "output_type": "execute_result"
    }
   ],
   "source": [
    "- 0.4 * 1.932066 - 0.6 * 1.349984"
   ]
  },
  {
   "cell_type": "code",
   "execution_count": 27,
   "id": "00736181",
   "metadata": {},
   "outputs": [
    {
     "data": {
      "text/plain": [
       "-2.2574208"
      ]
     },
     "execution_count": 27,
     "metadata": {},
     "output_type": "execute_result"
    }
   ],
   "source": [
    "0.881129 - 0.3 * 1.349984 - 0.7 * 3.905078"
   ]
  },
  {
   "cell_type": "code",
   "execution_count": null,
   "id": "83437c15",
   "metadata": {},
   "outputs": [],
   "source": []
  }
 ],
 "metadata": {
  "kernelspec": {
   "display_name": "Python 3 (ipykernel)",
   "language": "python",
   "name": "python3"
  },
  "language_info": {
   "codemirror_mode": {
    "name": "ipython",
    "version": 3
   },
   "file_extension": ".py",
   "mimetype": "text/x-python",
   "name": "python",
   "nbconvert_exporter": "python",
   "pygments_lexer": "ipython3",
   "version": "3.7.13"
  }
 },
 "nbformat": 4,
 "nbformat_minor": 5
}
